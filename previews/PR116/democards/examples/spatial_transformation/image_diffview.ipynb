{
 "cells": [
  {
   "outputs": [],
   "cell_type": "markdown",
   "source": [
    "This demonstration shows some common tricks in image comparision -- difference view"
   ],
   "metadata": {}
  },
  {
   "outputs": [],
   "cell_type": "markdown",
   "source": [
    "People from MATLAB would miss the function\n",
    "[`imshowpair`](https://www.mathworks.com/help/images/ref/imshowpair.html), but in JuliaImages\n",
    "it is not that indispensable."
   ],
   "metadata": {}
  },
  {
   "outputs": [
    {
     "name": "stdout",
     "output_type": "stream",
     "text": [
      "┌ Warning: Mapping to the storage type failed; perhaps your data had out-of-range values?\n",
      "│ Try `map(clamp01nan, img)` to clamp values to a valid range.\n",
      "└ @ ImageMagick /home/travis/.julia/packages/ImageMagick/vMfoS/src/ImageMagick.jl:167\n"
     ]
    },
    {
     "output_type": "execute_result",
     "data": {
      "text/plain": "273906"
     },
     "metadata": {},
     "execution_count": 1
    }
   ],
   "cell_type": "code",
   "source": [
    "using Images, MosaicViews\n",
    "using TestImages\n",
    "\n",
    "img = float.(testimage(\"cameraman\"))\n",
    "# rotate img by 4 degrees and keep axes unchanged\n",
    "img_r = imrotate(img, -pi/45, axes(img))\n",
    "\n",
    "# The simplest version is a plain diff\n",
    "plain_diffview = @. img - img_r\n",
    "\n",
    "# For gray images, a fancy trick is to fill each image into different RGB channels\n",
    "RGB_diffview = colorview(RGB,\n",
    "    PermutedDimsArray(\n",
    "    cat(channelview(img), channelview(img_r), fill(0., size(img)),; dims=3),\n",
    "    (3, 1, 2))\n",
    ")\n",
    "\n",
    "# or convert the RGB view back to Gray after that\n",
    "Gray_diffview = Gray.(RGB_diffview)\n",
    "\n",
    "mosaicview(plain_diffview, RGB_diffview, Gray_diffview;\n",
    "           nrow=1, npad=20, fillvalue=colorant\"white\")\n",
    "\n",
    "\n",
    "using FileIO # src\n",
    "save(\"assets/image_diffview.png\", RGB_diffview) # src"
   ],
   "metadata": {},
   "execution_count": 1
  },
  {
   "outputs": [],
   "cell_type": "markdown",
   "source": [
    "---\n",
    "\n",
    "*This notebook was generated using [Literate.jl](https://github.com/fredrikekre/Literate.jl).*"
   ],
   "metadata": {}
  }
 ],
 "nbformat_minor": 3,
 "metadata": {
  "language_info": {
   "file_extension": ".jl",
   "mimetype": "application/julia",
   "name": "julia",
   "version": "1.0.5"
  },
  "kernelspec": {
   "name": "julia-1.0",
   "display_name": "Julia 1.0.5",
   "language": "julia"
  }
 },
 "nbformat": 4
}
